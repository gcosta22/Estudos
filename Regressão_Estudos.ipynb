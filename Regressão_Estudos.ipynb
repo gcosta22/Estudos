{
 "cells": [
  {
   "cell_type": "markdown",
   "id": "93180a76-7622-4cbe-8c7c-bed40a76f2fe",
   "metadata": {},
   "source": [
    "## ESTUDOS DE REGRESSÃO"
   ]
  },
  {
   "cell_type": "code",
   "execution_count": 2,
   "id": "9583876a-6046-45b4-bdf8-6cbe0e607bbe",
   "metadata": {},
   "outputs": [],
   "source": [
    "import numpy as np\n",
    "import pandas as pd\n",
    "from matplotlib.pyplot import subplots\n",
    "import statsmodels.api as sm\n",
    "from sklearn.preprocessing import OneHotEncoder, MinMaxScaler\n",
    "from sklearn.model_selection import train_test_split\n",
    "from sklearn.linear_model import LinearRegression\n",
    "from sklearn.metrics import mean_squared_error, r2_score\n",
    "import matplotlib.pyplot as plt\n",
    "#from ISLP import load_data\n",
    "#from ISLP.models import ModelSpec as MS, summarize, poly"
   ]
  },
  {
   "cell_type": "markdown",
   "id": "d37bec77-fc82-4a62-8130-83598dea1eeb",
   "metadata": {},
   "source": [
    "### RESUMO INTRODUCTION TO STATISTICAL LEARNING\n",
    "**3.1 Regressão Linear Simples** (p. 69)\n",
    "* **Definição**:\n",
    "   * Modela a relação entre uma variável resposta Y e uma única variável preditora X.\n",
    "   * Equação do modelo: Y = β0 + β1X + ϵ.\n",
    "   * O objetivo é estimar os coeficientes β0 (intercepto) e β1 (inclinação) que minimizam o erro quadrático (RSS - Residual Sum of Squares).    \n",
    "### **3.1.1 Estimação dos Coeficientes**:\n",
    "- Os coeficientes são estimados usando o método dos **mínimos quadrados**.\n",
    "- Fórmulas para $ \\beta_0 $ e $ \\beta_1 $:\n",
    "  $\n",
    "  \\displaystyle \\beta_1 = \\frac{\\sum_{i=1}^n (x_i - \\bar{x})(y_i - \\bar{y})}{\\sum_{i=1}^n (x_i - \\bar{x})^2}\n",
    "  $\n",
    "  $\n",
    "  \\displaystyle \\beta_0 = \\bar{y} - \\beta_1 \\bar{x}\n",
    "  $\n",
    "- Essas fórmulas garantem que a linha de regressão seja a que melhor se ajusta aos dados, minimizando a soma dos quadrados dos resíduos.\n",
    "* **3.1.2 Avaliação do Modelo**:\n",
    "   * **RSE (Residual Standard Error)**: Mede o desvio padrão dos resíduos. Quanto menor o RSE, melhor o ajuste do modelo. RSE = √(∑ᵢ₌₁ⁿ(yi−ŷi)²)/(n−p−1)\n",
    "   * **R² (Coeficiente de Determinação)**: Proporção da variância em Y explicada por X. R² = 1 − RSS/TSS, TSS = ∑(yi−ȳ)²\n",
    "   * Um valor de R² próximo de 1 indica que o modelo explica grande parte da variabilidade da resposta.\n",
    "---\n",
    "\n",
    "### **3.2 Regressão Linear Múltipla** (p. 81)\n",
    "- **Definição**:\n",
    "  - Modela a relação entre $ Y $ e várias variáveis preditoras $ X_1, X_2, \\dots, X_p $.\n",
    "  - Equação do modelo: $ Y = \\beta_0 + \\beta_1 X_1 + \\beta_2 X_2 + \\dots + \\beta_p X_p + \\epsilon $.\n",
    "- **3.2.1 Estimação dos Coeficientes**:\n",
    "  - Os coeficientes são estimados minimizando o RSS, agora em um espaço multidimensional.\n",
    "  - A solução pode ser expressa em forma matricial:\n",
    "    $ \\hat{\\beta} = (X^T X)^{-1} X^T Y $\n",
    "  - Onde $ X $ é a matriz de preditores e $ Y $ é o vetor de respostas.\n",
    "- **3.2.2 Avaliação do Modelo**:\n",
    "  - **Teste F**: Verifica se pelo menos um dos preditores tem relação significativa com $ Y $.\n",
    "    $ F = \\frac{(TSS - RSS)/p}{RSS/(n - p - 1)} $\n",
    "    Um valor grande de $ F $ sugere que pelo menos um preditor é significativo.\n",
    "  - **Teste t**: Avalia a significância individual de cada coeficiente.\n",
    "    $ t = \\frac{\\hat{\\beta}_j}{SE(\\hat{\\beta}_j)} $\n",
    "    Um valor absoluto grande de $ t $ indica que o preditor $ X_j $ é significativo.\n",
    "\n",
    "---\n",
    "\n",
    "### **3.3 Seleção de Variáveis** (p. 86)\n",
    "- **3.3.1 Métodos para Seleção**:\n",
    "  - **Seleção Forward**: Adiciona preditores um a um, começando com o modelo vazio. Em cada passo, o preditor que mais reduz o RSS é adicionado.\n",
    "  - **Seleção Backward**: Remove preditores um a um, começando com o modelo completo. Em cada passo, o preditor que menos contribui para o modelo é removido.\n",
    "  - **Seleção Mista**: Combina forward e backward, permitindo que preditores sejam adicionados ou removidos em cada passo.\n",
    "- **3.3.2 Critérios de Seleção**:\n",
    "  - **R² Ajustado**: Penaliza a adição de preditores irrelevantes.\n",
    "    $ R^2_{\\text{ajustado}} = 1 - \\frac{RSS/(n - p - 1)}{TSS/(n - 1)} $\n",
    "  - **Cp de Mallow**, **AIC**, **BIC**: Medem o trade-off entre ajuste e complexidade.\n",
    "    $ C_p = \\frac{RSS}{\\hat{\\sigma}^2} + 2p, \\quad AIC = n \\log(RSS) + 2p, \\quad BIC = n \\log(RSS) + p \\log(n) $\n",
    "\n",
    "---\n",
    "\n",
    "### **3.4 Interações e Termos Não Lineares** (p. 95)\n",
    "\n",
    "- **3.4.1 Interações**:<br>\n",
    "  - Permitem que o efeito de um preditor dependa do valor de outro.<br>\n",
    "  - Exemplo: $ Y = \\beta_0 + \\beta_1 X_1 + \\beta_2 X_2 + \\beta_3 X_1 X_2 + \\epsilon $.<br>\n",
    "  - O termo de interação $ X_1 X_2 $ captura a sinergia entre os preditores.<br>\n",
    "- **3.4.2 Termos Não Lineares**:<br>\n",
    "  - Podem ser incluídos usando transformações (e.g., $ X^2 $, $ \\log(X) $).<br>\n",
    "  - Exemplo: $ Y = \\beta_0 + \\beta_1 X + \\beta_2 X^2 + \\epsilon $.<br>\n",
    "  - Isso permite que o modelo capture relações não lineares entre $ X $ e $ Y $.<br>\n",
    "\n",
    "---\n",
    "\n",
    "### **3.5 Problemas Potenciais em Regressão Linear** (p. 100)\n",
    "\n",
    "- **3.5.1 Não Linearidade**:  \n",
    "  A relação entre $ Y $ e $ X $ pode não ser linear. Solução: usar transformações ou modelos não lineares.  \n",
    "- **3.5.2 Correlação dos Erros**:  \n",
    "  Erros correlacionados podem invalidar inferências. Comum em dados temporais.  \n",
    "- **3.5.3 Heterocedasticidade**:  \n",
    "  Variância dos erros não é constante. Solução: transformar $ Y $ ou usar mínimos quadrados ponderados.  \n",
    "- **3.5.4 Outliers e Pontos de Alavancagem**:  \n",
    "  Observações extremas podem distorcer o modelo. Solução: identificar e remover outliers.  \n",
    "- **3.5.5 Multicolinearidade**:  \n",
    "  Preditores altamente correlacionados podem inflar a variância das estimativas. Solução: remover preditores redundantes ou usar técnicas como PCA.  \n",
    "\n",
    "---\n",
    "\n",
    "### **3.6 Comparação com K-Nearest Neighbors (KNN)** (p. 111)\n",
    "\n",
    "- **3.6.1 KNN**:  \n",
    "  Método não paramétrico que prevê $Y$ com base nos $K$ vizinhos mais próximos.  \n",
    "  Vantagem: flexibilidade para capturar relações não lineares.  \n",
    "  Desvantagem: desempenho ruim em alta dimensionalidade (maldição da dimensionalidade).\n",
    "- **3.6.2 Comparação**:  \n",
    "  Regressão linear é melhor quando a relação verdadeira é linear ou próxima disso.  \n",
    "  KNN pode ser superior em relações não lineares, mas sofre com o aumento do número de preditores.\n",
    "---\n",
    "\n",
    "### **Equações Importantes**\n",
    "1. **Regressão Simples**:\n",
    "   $ Y = \\beta_0 + \\beta_1 X + \\epsilon $\n",
    "2. **Regressão Múltipla**:\n",
    "   $ Y = \\beta_0 + \\beta_1 X_1 + \\beta_2 X_2 + \\dots + \\beta_p X_p + \\epsilon $\n",
    "3. **RSS (Residual Sum of Squares)**:\n",
    "   $ RSS = \\sum (y_i - \\hat{y}_i)^2 $\n",
    "4. **R²**:\n",
    "   $ R^2 = 1 - \\frac{RSS}{TSS}, \\quad TSS = \\sum (y_i - \\bar{y})^2 $\n",
    "5. **Teste F**:\n",
    "   $ F = \\frac{(TSS - RSS)/p}{RSS/(n - p - 1)} $\n"
   ]
  },
  {
   "cell_type": "markdown",
   "id": "54b5d320-a9f5-456b-b51d-ccfed45600dc",
   "metadata": {},
   "source": [
    "#Projeto 1"
   ]
  },
  {
   "cell_type": "code",
   "execution_count": 6,
   "id": "7a3e4ae4-d367-4c83-997d-7c2c5996b206",
   "metadata": {
    "scrolled": true
   },
   "outputs": [
    {
     "name": "stdout",
     "output_type": "stream",
     "text": [
      "Note: you may need to restart the kernel to use updated packages.\n"
     ]
    }
   ],
   "source": [
    "pip install -q ucimlrepo"
   ]
  },
  {
   "cell_type": "code",
   "execution_count": 12,
   "id": "d78a776e-c985-4484-a226-4f764aad82c1",
   "metadata": {},
   "outputs": [],
   "source": [
    "from ucimlrepo import fetch_ucirepo \n",
    "  \n",
    "# fetch dataset \n",
    "bike_sharing = fetch_ucirepo(id=275) \n",
    "  \n",
    "# data (as pandas dataframes) \n",
    "X = bike_sharing.data.features \n",
    "y = bike_sharing.data.targets "
   ]
  },
  {
   "cell_type": "code",
   "execution_count": 18,
   "id": "9774f758-e318-4129-bd40-3301f594cfe3",
   "metadata": {},
   "outputs": [
    {
     "data": {
      "text/html": [
       "<div>\n",
       "<style scoped>\n",
       "    .dataframe tbody tr th:only-of-type {\n",
       "        vertical-align: middle;\n",
       "    }\n",
       "\n",
       "    .dataframe tbody tr th {\n",
       "        vertical-align: top;\n",
       "    }\n",
       "\n",
       "    .dataframe thead th {\n",
       "        text-align: right;\n",
       "    }\n",
       "</style>\n",
       "<table border=\"1\" class=\"dataframe\">\n",
       "  <thead>\n",
       "    <tr style=\"text-align: right;\">\n",
       "      <th></th>\n",
       "      <th>cnt</th>\n",
       "    </tr>\n",
       "  </thead>\n",
       "  <tbody>\n",
       "    <tr>\n",
       "      <th>0</th>\n",
       "      <td>16</td>\n",
       "    </tr>\n",
       "    <tr>\n",
       "      <th>1</th>\n",
       "      <td>40</td>\n",
       "    </tr>\n",
       "    <tr>\n",
       "      <th>2</th>\n",
       "      <td>32</td>\n",
       "    </tr>\n",
       "    <tr>\n",
       "      <th>3</th>\n",
       "      <td>13</td>\n",
       "    </tr>\n",
       "    <tr>\n",
       "      <th>4</th>\n",
       "      <td>1</td>\n",
       "    </tr>\n",
       "  </tbody>\n",
       "</table>\n",
       "</div>"
      ],
      "text/plain": [
       "   cnt\n",
       "0   16\n",
       "1   40\n",
       "2   32\n",
       "3   13\n",
       "4    1"
      ]
     },
     "execution_count": 18,
     "metadata": {},
     "output_type": "execute_result"
    }
   ],
   "source": [
    "#count of total rental bikes including both casual and registered\n",
    "y.head()"
   ]
  },
  {
   "cell_type": "code",
   "execution_count": 25,
   "id": "97dee5d9-7e12-4841-9dbf-320cc8532c9d",
   "metadata": {},
   "outputs": [],
   "source": [
    "#dropar variáveis que nao serao testadas\n",
    "X = X.drop(columns=[\"dteday\", \"atemp\"])"
   ]
  },
  {
   "cell_type": "code",
   "execution_count": 27,
   "id": "192cb0a0-a84e-4ac1-8d77-ab3899d4d7fa",
   "metadata": {},
   "outputs": [
    {
     "data": {
      "text/html": [
       "<div>\n",
       "<style scoped>\n",
       "    .dataframe tbody tr th:only-of-type {\n",
       "        vertical-align: middle;\n",
       "    }\n",
       "\n",
       "    .dataframe tbody tr th {\n",
       "        vertical-align: top;\n",
       "    }\n",
       "\n",
       "    .dataframe thead th {\n",
       "        text-align: right;\n",
       "    }\n",
       "</style>\n",
       "<table border=\"1\" class=\"dataframe\">\n",
       "  <thead>\n",
       "    <tr style=\"text-align: right;\">\n",
       "      <th></th>\n",
       "      <th>season</th>\n",
       "      <th>yr</th>\n",
       "      <th>mnth</th>\n",
       "      <th>hr</th>\n",
       "      <th>holiday</th>\n",
       "      <th>weekday</th>\n",
       "      <th>workingday</th>\n",
       "      <th>weathersit</th>\n",
       "      <th>temp</th>\n",
       "      <th>hum</th>\n",
       "      <th>windspeed</th>\n",
       "    </tr>\n",
       "  </thead>\n",
       "  <tbody>\n",
       "    <tr>\n",
       "      <th>0</th>\n",
       "      <td>1</td>\n",
       "      <td>0</td>\n",
       "      <td>1</td>\n",
       "      <td>0</td>\n",
       "      <td>0</td>\n",
       "      <td>6</td>\n",
       "      <td>0</td>\n",
       "      <td>1</td>\n",
       "      <td>0.24</td>\n",
       "      <td>0.81</td>\n",
       "      <td>0.0</td>\n",
       "    </tr>\n",
       "    <tr>\n",
       "      <th>1</th>\n",
       "      <td>1</td>\n",
       "      <td>0</td>\n",
       "      <td>1</td>\n",
       "      <td>1</td>\n",
       "      <td>0</td>\n",
       "      <td>6</td>\n",
       "      <td>0</td>\n",
       "      <td>1</td>\n",
       "      <td>0.22</td>\n",
       "      <td>0.80</td>\n",
       "      <td>0.0</td>\n",
       "    </tr>\n",
       "    <tr>\n",
       "      <th>2</th>\n",
       "      <td>1</td>\n",
       "      <td>0</td>\n",
       "      <td>1</td>\n",
       "      <td>2</td>\n",
       "      <td>0</td>\n",
       "      <td>6</td>\n",
       "      <td>0</td>\n",
       "      <td>1</td>\n",
       "      <td>0.22</td>\n",
       "      <td>0.80</td>\n",
       "      <td>0.0</td>\n",
       "    </tr>\n",
       "    <tr>\n",
       "      <th>3</th>\n",
       "      <td>1</td>\n",
       "      <td>0</td>\n",
       "      <td>1</td>\n",
       "      <td>3</td>\n",
       "      <td>0</td>\n",
       "      <td>6</td>\n",
       "      <td>0</td>\n",
       "      <td>1</td>\n",
       "      <td>0.24</td>\n",
       "      <td>0.75</td>\n",
       "      <td>0.0</td>\n",
       "    </tr>\n",
       "    <tr>\n",
       "      <th>4</th>\n",
       "      <td>1</td>\n",
       "      <td>0</td>\n",
       "      <td>1</td>\n",
       "      <td>4</td>\n",
       "      <td>0</td>\n",
       "      <td>6</td>\n",
       "      <td>0</td>\n",
       "      <td>1</td>\n",
       "      <td>0.24</td>\n",
       "      <td>0.75</td>\n",
       "      <td>0.0</td>\n",
       "    </tr>\n",
       "  </tbody>\n",
       "</table>\n",
       "</div>"
      ],
      "text/plain": [
       "   season  yr  mnth  hr  holiday  weekday  workingday  weathersit  temp   hum  \\\n",
       "0       1   0     1   0        0        6           0           1  0.24  0.81   \n",
       "1       1   0     1   1        0        6           0           1  0.22  0.80   \n",
       "2       1   0     1   2        0        6           0           1  0.22  0.80   \n",
       "3       1   0     1   3        0        6           0           1  0.24  0.75   \n",
       "4       1   0     1   4        0        6           0           1  0.24  0.75   \n",
       "\n",
       "   windspeed  \n",
       "0        0.0  \n",
       "1        0.0  \n",
       "2        0.0  \n",
       "3        0.0  \n",
       "4        0.0  "
      ]
     },
     "execution_count": 27,
     "metadata": {},
     "output_type": "execute_result"
    }
   ],
   "source": [
    "#Tem um dicionário no site: https://archive.ics.uci.edu/dataset/275/bike+sharing+dataset\n",
    "X.head()"
   ]
  },
  {
   "cell_type": "code",
   "execution_count": 28,
   "id": "8f0a57fb-525c-49c2-950c-e38a61a20c70",
   "metadata": {},
   "outputs": [
    {
     "name": "stdout",
     "output_type": "stream",
     "text": [
      "season         4\n",
      "yr             2\n",
      "mnth          12\n",
      "hr            24\n",
      "holiday        2\n",
      "weekday        7\n",
      "workingday     2\n",
      "weathersit     4\n",
      "temp          50\n",
      "hum           89\n",
      "windspeed     30\n",
      "dtype: int64\n",
      "<class 'pandas.core.frame.DataFrame'>\n",
      "RangeIndex: 17379 entries, 0 to 17378\n",
      "Data columns (total 11 columns):\n",
      " #   Column      Non-Null Count  Dtype  \n",
      "---  ------      --------------  -----  \n",
      " 0   season      17379 non-null  int64  \n",
      " 1   yr          17379 non-null  int64  \n",
      " 2   mnth        17379 non-null  int64  \n",
      " 3   hr          17379 non-null  int64  \n",
      " 4   holiday     17379 non-null  int64  \n",
      " 5   weekday     17379 non-null  int64  \n",
      " 6   workingday  17379 non-null  int64  \n",
      " 7   weathersit  17379 non-null  int64  \n",
      " 8   temp        17379 non-null  float64\n",
      " 9   hum         17379 non-null  float64\n",
      " 10  windspeed   17379 non-null  float64\n",
      "dtypes: float64(3), int64(8)\n",
      "memory usage: 1.5 MB\n"
     ]
    }
   ],
   "source": [
    "print(X.nunique())\n",
    "X.info()"
   ]
  },
  {
   "cell_type": "code",
   "execution_count": 34,
   "id": "8279996a-3fbf-44e5-8f37-a05e4c29cac3",
   "metadata": {},
   "outputs": [
    {
     "data": {
      "text/plain": [
       "array([1, 2, 3, 4])"
      ]
     },
     "execution_count": 34,
     "metadata": {},
     "output_type": "execute_result"
    }
   ],
   "source": [
    "#Nao tenho certeza como eles classificaram. 4 é o melhor? nunca saberemos\n",
    "X[\"weathersit\"].unique()"
   ]
  },
  {
   "cell_type": "code",
   "execution_count": null,
   "id": "70b7b86b-9482-49fc-8fe6-6fb97ffc09f3",
   "metadata": {},
   "outputs": [],
   "source": []
  },
  {
   "cell_type": "code",
   "execution_count": null,
   "id": "c089d962-7958-45d5-b15f-1ada17168414",
   "metadata": {},
   "outputs": [],
   "source": []
  },
  {
   "cell_type": "code",
   "execution_count": null,
   "id": "520f4622-fd74-40c9-90b2-2fa10322b6a4",
   "metadata": {},
   "outputs": [],
   "source": []
  },
  {
   "cell_type": "code",
   "execution_count": 51,
   "id": "b300269e-3180-4185-af6a-5281406f9a0c",
   "metadata": {},
   "outputs": [],
   "source": [
    "X_train, X_test, y_train, y_test = train_test_split(X, y, test_size=0.2, random_state=42)"
   ]
  },
  {
   "cell_type": "code",
   "execution_count": 50,
   "id": "3c861479-df17-406e-98c2-05204327bd38",
   "metadata": {},
   "outputs": [
    {
     "ename": "NameError",
     "evalue": "name 'b' is not defined",
     "output_type": "error",
     "traceback": [
      "\u001b[0;31m---------------------------------------------------------------------------\u001b[0m",
      "\u001b[0;31mNameError\u001b[0m                                 Traceback (most recent call last)",
      "Cell \u001b[0;32mIn[50], line 1\u001b[0m\n\u001b[0;32m----> 1\u001b[0m b\n",
      "\u001b[0;31mNameError\u001b[0m: name 'b' is not defined"
     ]
    }
   ],
   "source": []
  },
  {
   "cell_type": "code",
   "execution_count": null,
   "id": "0a682e36-c408-4179-b4d0-352f51b31c12",
   "metadata": {},
   "outputs": [],
   "source": []
  },
  {
   "cell_type": "code",
   "execution_count": null,
   "id": "39ef4d0b-b9a4-42a8-8cd3-1095b58caecc",
   "metadata": {},
   "outputs": [],
   "source": []
  },
  {
   "cell_type": "code",
   "execution_count": 52,
   "id": "7eecab3d-0cf8-4642-933a-cab6ad1bf7ea",
   "metadata": {},
   "outputs": [
    {
     "data": {
      "text/plain": [
       "((13903, 11), (3476, 11), (13903, 1), (3476, 1))"
      ]
     },
     "execution_count": 52,
     "metadata": {},
     "output_type": "execute_result"
    }
   ],
   "source": [
    "X_train.shape, X_test.shape, y_train.shape, y_test.shape"
   ]
  },
  {
   "cell_type": "code",
   "execution_count": 59,
   "id": "730ec250-6916-4b07-a3e0-ad53c0ff685b",
   "metadata": {},
   "outputs": [],
   "source": [
    "# Definindo colunas categóricas e numéricas\n",
    "categorical_cols = ['season', 'yr', 'mnth', 'hr', 'holiday', 'weekday', 'workingday', 'weathersit']\n",
    "numerical_cols = ['temp', 'hum', 'windspeed']\n",
    "\n",
    "# Aplicando OneHotEncoder nas variáveis categóricas\n",
    "encoder = OneHotEncoder(drop='first', sparse_output=False)\n",
    "encoder.fit(X_train[categorical_cols])  # Ajustando apenas no treino\n",
    "\n",
    "# Transformando treino e teste\n",
    "X_train_categorical = encoder.transform(X_train[categorical_cols])\n",
    "X_test_categorical = encoder.transform(X_test[categorical_cols])\n",
    "\n",
    "# Criando DataFrames com as colunas codificadas\n",
    "X_train_categorical_df = pd.DataFrame(X_train_categorical, columns=encoder.get_feature_names_out(categorical_cols))\n",
    "X_test_categorical_df = pd.DataFrame(X_test_categorical, columns=encoder.get_feature_names_out(categorical_cols))\n",
    "\n",
    "# Aplicando MinMaxScaler nas variáveis numéricas\n",
    "scaler = MinMaxScaler()\n",
    "scaler.fit(X_train[numerical_cols])  # Ajustando apenas no treino\n",
    "\n",
    "# Transformando treino e teste\n",
    "X_train_numerical = scaler.transform(X_train[numerical_cols])\n",
    "X_test_numerical = scaler.transform(X_test[numerical_cols])\n",
    "\n",
    "# Criando DataFrames com as colunas escaladas\n",
    "X_train_numerical_df = pd.DataFrame(X_train_numerical, columns=numerical_cols)\n",
    "X_test_numerical_df = pd.DataFrame(X_test_numerical, columns=numerical_cols)\n",
    "\n",
    "# Juntando as colunas codificadas e escaladas\n",
    "X_train_processed = pd.concat([X_train_categorical_df.reset_index(drop=True), X_train_numerical_df.reset_index(drop=True)], axis=1)\n",
    "X_test_processed = pd.concat([X_test_categorical_df.reset_index(drop=True), X_test_numerical_df.reset_index(drop=True)], axis=1)\n",
    "\n"
   ]
  },
  {
   "cell_type": "code",
   "execution_count": 60,
   "id": "7419a487-9074-4e7d-a58e-5b02e5d5aeb8",
   "metadata": {},
   "outputs": [
    {
     "name": "stdout",
     "output_type": "stream",
     "text": [
      "Mean Squared Error (MSE): 10101.200723801316\n",
      "R² Score: 0.681002068267097\n"
     ]
    }
   ],
   "source": [
    "model = LinearRegression()\n",
    "model.fit(X_train_processed, y_train)\n",
    "\n",
    "# Fazendo previsões nos dados de teste\n",
    "y_pred = model.predict(X_test_processed)\n",
    "\n",
    "# Avaliando o modelo\n",
    "mse = mean_squared_error(y_test, y_pred)\n",
    "r2 = r2_score(y_test, y_pred)\n",
    "\n",
    "print(f\"Mean Squared Error (MSE): {mse}\")\n",
    "print(f\"R² Score: {r2}\")"
   ]
  },
  {
   "cell_type": "code",
   "execution_count": 62,
   "id": "64dac853-9ffa-4e2e-ae55-8739ceec9449",
   "metadata": {},
   "outputs": [
    {
     "data": {
      "text/plain": [
       "<matplotlib.collections.PathCollection at 0x1457e6810>"
      ]
     },
     "execution_count": 62,
     "metadata": {},
     "output_type": "execute_result"
    },
    {
     "data": {
      "image/png": "[encoded data removed]",
      "text/plain": [
       "<Figure size 640x480 with 1 Axes>"
      ]
     },
     "metadata": {},
     "output_type": "display_data"
    }
   ],
   "source": [
    "import matplotlib.pyplot as plt\n",
    "plt.scatter(y_test, y_pred)"
   ]
  },
  {
   "cell_type": "code",
   "execution_count": null,
   "id": "0d4b401c-d710-4481-bf76-5b44cd6911cd",
   "metadata": {},
   "outputs": [],
   "source": []
  }
 ],
 "metadata": {
  "kernelspec": {
   "display_name": "Python 3 (ipykernel)",
   "language": "python",
   "name": "python3"
  },
  "language_info": {
   "codemirror_mode": {
    "name": "ipython",
    "version": 3
   },
   "file_extension": ".py",
   "mimetype": "text/x-python",
   "name": "python",
   "nbconvert_exporter": "python",
   "pygments_lexer": "ipython3",
   "version": "3.12.7"
  }
 },
 "nbformat": 4,
 "nbformat_minor": 5
}
