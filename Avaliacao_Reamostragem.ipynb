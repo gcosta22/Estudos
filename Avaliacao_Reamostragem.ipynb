{
 "cells": [
  {
   "cell_type": "markdown",
   "id": "720183e7-0832-4f92-9065-370de92d303d",
   "metadata": {},
   "source": [
    "## RESUMO AVALIACAO DE MODELOS MÉTODOS DE REAMOSTRAGEM\n",
    "\n",
    "**5.1 Visão Geral dos Métodos de Reamostragem**  \n",
    "* **Definição**:  \n",
    "   - Métodos de reamostragem envolvem a repetição de amostras de um conjunto de dados para obter informações adicionais sobre um modelo estatístico.  \n",
    "   - Eles são úteis para estimar a variabilidade de um modelo, avaliar o erro de teste e selecionar o nível de flexibilidade adequado.  \n",
    "   - Exemplos de métodos: validação cruzada e bootstrap.\n",
    "      \n",
    "**5.2 Validação Cruzada**  \n",
    "* **Objetivo**:  \n",
    "   - Estimar o erro de teste de um modelo sem a necessidade de um conjunto de teste separado.  \n",
    "   - Ajuda a evitar overfitting e underfitting.  \n",
    "* **Tipos de Validação Cruzada**:  \n",
    "   - **Validação Simples (Hold-Out)**: Divide os dados em um conjunto de treino e um conjunto de validação.  \n",
    "     - Problema: Alta variabilidade dependendo da divisão dos dados.  \n",
    "   - **Validação Cruzada Leave-One-Out (LOOCV)**: Usa uma única observação como conjunto de validação e o restante como treino.  \n",
    "     - Vantagem: Menos viés, mas computacionalmente caro.  \n",
    "     - Fórmula do erro de LOOCV:  \n",
    "       $$\n",
    "       CV_{(n)} = \\frac{1}{n} \\sum_{i=1}^{n} MSE_i\n",
    "       $$  \n",
    "   - **Validação Cruzada k-Fold**: Divide os dados em \\( k \\) partes iguais, usando \\( k-1 \\) partes para treino e 1 parte para validação.  \n",
    "     - Vantagem: Equilíbrio entre viés e variância.  \n",
    "     - Fórmula do erro de k-Fold:  \n",
    "       $$\n",
    "       CV_{(k)} = \\frac{1}{k} \\sum_{i=1}^{k} MSE_i\n",
    "       $$  \n",
    "\n",
    "**5.3 Bootstrap**  \n",
    "* **Definição**:  \n",
    "   - O bootstrap é uma técnica de reamostragem que envolve a criação de múltiplas amostras a partir dos dados originais, com reposição.  \n",
    "   - Usado para estimar a variabilidade de estatísticas, como erros padrão e intervalos de confiança.  \n",
    "\n",
    "* **Passos do Bootstrap**:  \n",
    "   1. Gere \\( B \\) amostras bootstrap, cada uma com \\( n \\) observações selecionadas aleatoriamente com reposição.  \n",
    "   2. Calcule a estatística de interesse (ex.: coeficientes de regressão) para cada amostra bootstrap.  \n",
    "   3. Use as \\( B \\) estimativas para calcular o erro padrão ou intervalos de confiança.  \n",
    "\n",
    "* **Fórmula do Erro Padrão Bootstrap**:  \n",
    "   $$\n",
    "   SE_B(\\hat{\\theta}) = \\sqrt{\\frac{1}{B-1} \\sum_{r=1}^{B} (\\hat{\\theta}_r^* - \\bar{\\theta}^*)^2}\n",
    "   $$  \n",
    "   Onde:  \n",
    "   - $ \\hat{\\theta}_r^* $: Estimativa da estatística na r-ésima amostra bootstrap.  \n",
    "   - $ \\bar{\\theta}^* $: Média das estimativas bootstrap.  \n",
    "\n",
    "**5.4 Aplicações Práticas**  \n",
    "* **Validação Cruzada**:  \n",
    "   - Escolha do modelo: Comparar diferentes modelos (ex.: regressão linear vs. polinomial) usando validação cruzada para selecionar o que tem o menor erro de teste.  \n",
    "   - Ajuste de hiperparâmetros: Usar validação cruzada para selecionar o melhor valor de \\( k \\) em k-NN ou o grau de um polinômio.  \n",
    "\n",
    "* **Bootstrap**:  \n",
    "   - Estimação de erros padrão: Útil quando fórmulas analíticas não estão disponíveis.  \n",
    "   - Intervalos de confiança: Construir intervalos de confiança empíricos para parâmetros de modelos.  "
   ]
  },
  {
   "cell_type": "code",
   "execution_count": null,
   "id": "78f69a5b-e42f-42cd-b5d1-ce48ef919aaa",
   "metadata": {},
   "outputs": [],
   "source": []
  }
 ],
 "metadata": {
  "kernelspec": {
   "display_name": "Python [conda env:base] *",
   "language": "python",
   "name": "conda-base-py"
  },
  "language_info": {
   "codemirror_mode": {
    "name": "ipython",
    "version": 3
   },
   "file_extension": ".py",
   "mimetype": "text/x-python",
   "name": "python",
   "nbconvert_exporter": "python",
   "pygments_lexer": "ipython3",
   "version": "3.12.7"
  }
 },
 "nbformat": 4,
 "nbformat_minor": 5
}
