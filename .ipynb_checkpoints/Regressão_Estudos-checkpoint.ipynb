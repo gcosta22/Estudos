{
 "cells": [
  {
   "cell_type": "markdown",
   "id": "93180a76-7622-4cbe-8c7c-bed40a76f2fe",
   "metadata": {},
   "source": [
    "ESTUDOS DE REGRESSÃO"
   ]
  },
  {
   "cell_type": "code",
   "execution_count": 2,
   "id": "9583876a-6046-45b4-bdf8-6cbe0e607bbe",
   "metadata": {},
   "outputs": [],
   "source": [
    "import numpy as np"
   ]
  },
  {
   "cell_type": "markdown",
   "id": "27db6bbc-8935-4c86-8b3b-fbdbd19a11e6",
   "metadata": {},
   "source": [
    "## Função de Custo MSE\n",
    "\n",
    "A função de custo do Erro Quadrático Médio (MSE) é dada por:\n",
    "\n",
    "$$\n",
    "J(\\theta) = \\frac{1}{2m} \\sum_{i=1}^{m} (h_\\theta(x^{(i)}) - y^{(i)})^2\n",
    "$$\n",
    "\n",
    "\n",
    "Onde:\n",
    "- $ h_\\theta(x^{(i)}) = \\theta^T x^{(i)} $ é a hipótese (predição do modelo).\n",
    "- $ y^{(i)} $ é o valor real.\n",
    "- $ m $ é o número de exemplos de treinamento.\n",
    "\n",
    "\n",
    "## Equação Normal\n",
    "\n",
    "A equação normal que minimiza $ J(\\theta) $ é:\n",
    "\n",
    "$$\n",
    "\\theta = (X^T X)^{-1} X^T y\n",
    "$$\n",
    "\n",
    "Onde:\n",
    "- $ X $ é a matriz de características (com uma coluna de 1s para o termo de viés).\n",
    "- $ y $ é o vetor de valores reais."
   ]
  },
  {
   "cell_type": "markdown",
   "id": "256f3c9e-5f5b-4260-96e9-e1951a24872f",
   "metadata": {},
   "source": [
    "## Derivação da Equação Normal\n",
    "\n",
    "### 1. Função de Custo MSE\n",
    "\n",
    "A função de custo MSE é dada por:\n",
    "\n",
    "$$\n",
    "J(\\theta) = \\frac{1}{2m} (X\\theta - y)^T (X\\theta - y)\n",
    "$$\n",
    "\n",
    "### 2. Derivada da Função de Custo\n",
    "\n",
    "Para minimizar $ J(\\theta) $, derivamos em relação a $ \\theta $ e igualamos a zero:\n",
    "\n",
    "$$\n",
    "\\nabla_\\theta J(\\theta) = \\frac{1}{m} X^T (X\\theta - y) = 0\n",
    "$$\n",
    "\n",
    "### 3. Igualando a Derivada a Zero\n",
    "\n",
    "Rearranjando a equação, obtemos:\n",
    "\n",
    "$$\n",
    "X^T (X\\theta - y) = 0\n",
    "$$\n",
    "\n",
    "### 4. Resolvendo para $ \\theta $\n",
    "\n",
    "Isso nos leva a:\n",
    "\n",
    "$$\n",
    "X^T X\\theta = X^T y\n",
    "$$\n",
    "\n",
    "### 5. Equação Normal\n",
    "\n",
    "Finalmente, a solução para $ \\theta $ é:\n",
    "\n",
    "$$\n",
    "\\theta = (X^T X)^{-1} X^T y\n",
    "$$"
   ]
  },
  {
   "cell_type": "code",
   "execution_count": 29,
   "id": "3804a69d-b600-42eb-ac54-6541864a9066",
   "metadata": {},
   "outputs": [
    {
     "name": "stdout",
     "output_type": "stream",
     "text": [
      "X^T X:\n",
      " [[ 3  6]\n",
      " [ 6 14]]\n",
      "\n",
      "(X^T X)^(-1):\n",
      " [[ 2.33333333 -1.        ]\n",
      " [-1.          0.5       ]]\n",
      "\n",
      "X^T y:\n",
      " [ 6 14]\n",
      "\n",
      "Coeficientes theta (equação normal):\n",
      " [-1.77635684e-15  1.00000000e+00]\n"
     ]
    }
   ],
   "source": [
    "# Dados de exemplo\n",
    "X = np.array([[1, 1], [1, 2], [1, 3]])  # Matriz de características (com coluna de 1s para o viés)\n",
    "y = np.array([1, 2, 3])  # Vetor de valores reais\n",
    "\n",
    "# Passo 1: Calcular X^T X\n",
    "X_T_X = X.T @ X\n",
    "print(\"X^T X:\\n\", X_T_X)\n",
    "\n",
    "# Passo 2: Calcular a inversa de X^T X\n",
    "X_T_X_inv = np.linalg.inv(X_T_X)\n",
    "print(\"\\n(X^T X)^(-1):\\n\", X_T_X_inv)\n",
    "\n",
    "# Passo 3: Calcular X^T y\n",
    "X_T_y = X.T @ y\n",
    "print(\"\\nX^T y:\\n\", X_T_y)\n",
    "\n",
    "# Passo 4: Calcular theta\n",
    "theta = X_T_X_inv @ X_T_y\n",
    "print(\"\\nCoeficientes theta (equação normal):\\n\", theta)"
   ]
  },
  {
   "cell_type": "markdown",
   "id": "362ce212-ef90-41b7-8772-8c54aaf7ad29",
   "metadata": {},
   "source": []
  }
 ],
 "metadata": {
  "kernelspec": {
   "display_name": "Python 3 (ipykernel)",
   "language": "python",
   "name": "python3"
  },
  "language_info": {
   "codemirror_mode": {
    "name": "ipython",
    "version": 3
   },
   "file_extension": ".py",
   "mimetype": "text/x-python",
   "name": "python",
   "nbconvert_exporter": "python",
   "pygments_lexer": "ipython3",
   "version": "3.12.7"
  }
 },
 "nbformat": 4,
 "nbformat_minor": 5
}
